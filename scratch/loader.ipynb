{
 "cells": [
  {
   "cell_type": "code",
   "execution_count": 2,
   "metadata": {},
   "outputs": [],
   "source": [
    "%load_ext autoreload\n",
    "%autoreload 2"
   ]
  },
  {
   "cell_type": "code",
   "execution_count": 3,
   "metadata": {},
   "outputs": [],
   "source": [
    "import sys\n",
    "\n",
    "sys.path.append(\"../\")"
   ]
  },
  {
   "cell_type": "code",
   "execution_count": 4,
   "metadata": {},
   "outputs": [],
   "source": [
    "import fof.dataloader\n",
    "import transformers as tr\n",
    "from pathlib import Path"
   ]
  },
  {
   "cell_type": "code",
   "execution_count": 23,
   "metadata": {},
   "outputs": [
    {
     "name": "stdout",
     "output_type": "stream",
     "text": [
      "Initializing SCICAP training dataset\n",
      "Initializing SCICAP testing dataset\n",
      "Initializing SCICAP validation dataset\n",
      "Time taken: 0.04568171501159668\n"
     ]
    }
   ],
   "source": [
    "loader = fof.dataloader.ScicapDataModule(\n",
    "  \"First-Sentence\",\n",
    "  tokenizer=tr.AutoTokenizer.from_pretrained(\"distilbert-base-uncased\"),\n",
    "  root=Path(\"../scicap_data\"),\n",
    "  batch_size=1,\n",
    "  num_workers=0)\n",
    "train = loader.train_dataloader()"
   ]
  },
  {
   "cell_type": "code",
   "execution_count": 31,
   "metadata": {},
   "outputs": [
    {
     "data": {
      "text/plain": [
       "6"
      ]
     },
     "execution_count": 31,
     "metadata": {},
     "output_type": "execute_result"
    }
   ],
   "source": [
    "batch = next(iter(train))\n",
    "len(batch)"
   ]
  },
  {
   "cell_type": "code",
   "execution_count": 33,
   "metadata": {},
   "outputs": [
    {
     "name": "stdout",
     "output_type": "stream",
     "text": [
      "references ['ons. All these codes fit in a broader class called alternant codes. See for\\ninstance [82, Chap. 12, Fig. 12.1].\\nIn some sense, algebraic geometry codes are natural generalisations of generalized\\nReed–Solomo[SEP] q > 49, it is shown\\nthat this TVZ bound beats the GV bound on a certain interval as illustrated in\\nFigure 1\\n– When q = p2m+1 (m > 1) is a non-prime odd power of a prime, Bassa, Beelen,\\nGarcia, and Stichtenot']\n",
      "labels ['Figure 1. Tsfasman–Vlăduţ–Zink bound for q = 64']\n",
      "title ['Algebraic geometry codes and some applications']\n",
      "id ['2009.01281v1-Figure1-1.png']\n"
     ]
    }
   ],
   "source": [
    "for key in [\"references\", \"labels\", \"title\", \"id\"]:\n",
    "    print(key, batch[key])"
   ]
  }
 ],
 "metadata": {
  "interpreter": {
   "hash": "c7779a98de346b1031cd91a1d891077213abc72ed26fbf8642cc8d816444057c"
  },
  "kernelspec": {
   "display_name": "Python 3.8.10 ('figuring-out-figures-rn5smVdW')",
   "language": "python",
   "name": "python3"
  },
  "language_info": {
   "codemirror_mode": {
    "name": "ipython",
    "version": 3
   },
   "file_extension": ".py",
   "mimetype": "text/x-python",
   "name": "python",
   "nbconvert_exporter": "python",
   "pygments_lexer": "ipython3",
   "version": "3.8.10"
  },
  "orig_nbformat": 4
 },
 "nbformat": 4,
 "nbformat_minor": 2
}
