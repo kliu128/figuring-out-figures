{
 "cells": [
  {
   "cell_type": "code",
   "execution_count": 39,
   "metadata": {},
   "outputs": [
    {
     "name": "stdout",
     "output_type": "stream",
     "text": [
      "The autoreload extension is already loaded. To reload it, use:\n",
      "  %reload_ext autoreload\n"
     ]
    }
   ],
   "source": [
    "%load_ext autoreload\n",
    "%autoreload 2"
   ]
  },
  {
   "cell_type": "code",
   "execution_count": 40,
   "metadata": {},
   "outputs": [],
   "source": [
    "import sys\n",
    "\n",
    "sys.path.append(\"../\")"
   ]
  },
  {
   "cell_type": "code",
   "execution_count": 41,
   "metadata": {},
   "outputs": [],
   "source": [
    "import fof.dataloader\n",
    "import transformers as tr\n",
    "from pathlib import Path"
   ]
  },
  {
   "cell_type": "code",
   "execution_count": 50,
   "metadata": {},
   "outputs": [
    {
     "name": "stdout",
     "output_type": "stream",
     "text": [
      "Initializing SCICAP training dataset\n",
      "Initializing SCICAP testing dataset\n",
      "Initializing SCICAP validation dataset\n",
      "Time taken: 0.06000995635986328\n"
     ]
    }
   ],
   "source": [
    "loader = fof.dataloader.ScicapDataModule(\n",
    "  \"First-Sentence\",\n",
    "  tokenizer=tr.AutoTokenizer.from_pretrained(\"distilbert-base-uncased\"),\n",
    "  root=Path(\"../scicap_data\"),\n",
    "  batch_size=4,\n",
    "  caption_type=\"normalized\",\n",
    "  num_workers=0)\n",
    "train = loader.train_dataloader()"
   ]
  },
  {
   "cell_type": "code",
   "execution_count": 52,
   "metadata": {},
   "outputs": [
    {
     "data": {
      "text/plain": [
       "6"
      ]
     },
     "execution_count": 52,
     "metadata": {},
     "output_type": "execute_result"
    }
   ],
   "source": [
    "batch = next(iter(train))\n",
    "len(batch)"
   ]
  },
  {
   "cell_type": "code",
   "execution_count": 53,
   "metadata": {},
   "outputs": [
    {
     "name": "stdout",
     "output_type": "stream",
     "text": [
      "references ['ting\\nthe data in between the execution of the prefetch and the subsequent access in the last round.\\nFigure 9 is complementary to Figure 8. It represents the\\nnumber of guesses that an attacker would require to', '', ' procedure)\\nof the RC classifiers varies on the dataset in Tab. I.\\nWe report the average results in Fig. 7.\\n\\nClassification accuracy\\n\\n88\\n0.32\\n\\n87\\n86\\n\\n0.3\\n\\n85\\n84\\n25\\n\\n50\\n\\n75\\n\\n100\\n\\n125\\n\\n0.28\\n150\\n\\nExecution tim', \"every day diet. As a result, the set of distinct ingredients\\nroughly follows Heap's law, as seen in Fig. 4, with an exponent around 0.64. According to the method in\\n1\\npaper [20], the exponent of Zipf's law \"]\n",
      "labels ['key candidate search space for the NUM bits of the key of the s-box aes implementation of openssl retrieved using the tsx-based detection and method NUM .', 'throughput graph .', 'average classification accuracy and execution time for different dimensions d of the space with reduced dimensionality .', 'the number of distinct ingredients discovered vs. the number of recipes scanned . the plot BRACKET-TK approximately follows heap ’ s law BRACKET-TK . the graph is obtained by averaging NUM implementations with independently random sequences of recipes .']\n",
      "title ['CACHE SNIPER : Accurate timing control of cache evictions', 'Securing Internet Protocol (IP) Storage: A Case Study', 'Reservoir computing approaches for representation and classification of\\n  multivariate time series', 'Geography and similarity of regional cuisines in China']\n",
      "id ['2008.12188v1-Figure9-1.png', '1003.5431v1-Figure6-1.png', '1803.07870v3-Figure7-1.png', '1307.3185v1-Figure4-1.png']\n"
     ]
    }
   ],
   "source": [
    "for key in [\"references\", \"labels\", \"title\", \"id\"]:\n",
    "    print(key, batch[key])"
   ]
  }
 ],
 "metadata": {
  "interpreter": {
   "hash": "c7779a98de346b1031cd91a1d891077213abc72ed26fbf8642cc8d816444057c"
  },
  "kernelspec": {
   "display_name": "Python 3.8.10 ('figuring-out-figures-rn5smVdW')",
   "language": "python",
   "name": "python3"
  },
  "language_info": {
   "codemirror_mode": {
    "name": "ipython",
    "version": 3
   },
   "file_extension": ".py",
   "mimetype": "text/x-python",
   "name": "python",
   "nbconvert_exporter": "python",
   "pygments_lexer": "ipython3",
   "version": "3.8.10"
  },
  "orig_nbformat": 4
 },
 "nbformat": 4,
 "nbformat_minor": 2
}
